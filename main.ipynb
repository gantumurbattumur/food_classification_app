{
 "cells": [
  {
   "cell_type": "code",
   "execution_count": 17,
   "id": "ae294945",
   "metadata": {},
   "outputs": [],
   "source": [
    "import os\n",
    "import numpy as np\n",
    "import matplotlib.pyplot as plt\n",
    "import tensorflow as tf\n",
    "from tensorflow import keras\n",
    "from tensorflow.keras import layers\n",
    "\n"
   ]
  },
  {
   "cell_type": "code",
   "execution_count": 18,
   "id": "f368e429",
   "metadata": {},
   "outputs": [
    {
     "name": "stdout",
     "output_type": "stream",
     "text": [
      "Found 99 files belonging to 6 classes.\n",
      "Found 20 files belonging to 6 classes.\n",
      "Found 20 files belonging to 6 classes.\n"
     ]
    }
   ],
   "source": [
    "img_height, img_width = 128, 128\n",
    "batch_size = 32\n",
    "\n",
    "train_ds = tf.keras.utils.image_dataset_from_directory(\n",
    "    \"dataset/train\",\n",
    "    image_size=(img_height, img_width),\n",
    "    batch_size=batch_size,\n",
    "    label_mode='categorical'\n",
    ")\n",
    "val_ds = tf.keras.utils.image_dataset_from_directory(\n",
    "    \"dataset/val\",\n",
    "    image_size=(img_height, img_width),\n",
    "    batch_size=batch_size,\n",
    "    label_mode='categorical'\n",
    ")   \n",
    "test_ds = tf.keras.utils.image_dataset_from_directory(\n",
    "    \"dataset/test\",\n",
    "    image_size=(img_height, img_width),\n",
    "    batch_size=batch_size,\n",
    "    label_mode='categorical'\n",
    ")"
   ]
  },
  {
   "cell_type": "code",
   "execution_count": 19,
   "id": "f98adb72",
   "metadata": {},
   "outputs": [],
   "source": [
    "num_classes = len(train_ds.class_names)"
   ]
  },
  {
   "cell_type": "code",
   "execution_count": 20,
   "id": "5776d51c",
   "metadata": {},
   "outputs": [],
   "source": [
    "normalization_layer = layers.Rescaling(1./255)\n",
    "\n",
    "train_ds = train_ds.map(lambda x, y: (normalization_layer(x), y))\n",
    "val_ds = val_ds.map(lambda x, y: (normalization_layer(x), y))\n",
    "test_ds = test_ds.map(lambda x, y: (normalization_layer(x), y))\n"
   ]
  },
  {
   "cell_type": "code",
   "execution_count": 21,
   "id": "50d97b85",
   "metadata": {},
   "outputs": [],
   "source": [
    "data_augmentation = keras.Sequential([\n",
    "    layers.RandomFlip(\"horizontal_and_vertical\"),\n",
    "    layers.RandomRotation(0.2),\n",
    "    layers.RandomZoom(0.1),\n",
    "])\n",
    "train_ds = train_ds.map(lambda x, y: (data_augmentation(x, training=True), y))"
   ]
  },
  {
   "cell_type": "code",
   "execution_count": 22,
   "id": "1550ed85",
   "metadata": {},
   "outputs": [],
   "source": [
    "def mobile_net_v2_model(num_classes):   \n",
    "    base_model = keras.applications.MobileNetV2(\n",
    "        input_shape=(128, 128, 3),\n",
    "        include_top=False,\n",
    "        weights='imagenet'\n",
    "    )\n",
    "\n",
    "    base_model.trainable = False  # freeze pretrained layers\n",
    "\n",
    "    model = keras.Sequential([\n",
    "        base_model,\n",
    "        layers.GlobalAveragePooling2D(),\n",
    "        layers.Dense(128, activation='relu'),\n",
    "        layers.Dense(num_classes, activation='softmax')\n",
    "    ])\n",
    "\n",
    "    model.compile(\n",
    "        optimizer='adam',\n",
    "        loss='categorical_crossentropy',\n",
    "        metrics=['accuracy']\n",
    "    )\n",
    "    return model"
   ]
  },
  {
   "cell_type": "code",
   "execution_count": 23,
   "id": "b318fdd3",
   "metadata": {},
   "outputs": [
    {
     "name": "stdout",
     "output_type": "stream",
     "text": [
      "Epoch 1/20\n",
      "\u001b[1m4/4\u001b[0m \u001b[32m━━━━━━━━━━━━━━━━━━━━\u001b[0m\u001b[37m\u001b[0m \u001b[1m6s\u001b[0m 765ms/step - accuracy: 0.1313 - loss: 2.3868 - val_accuracy: 0.2000 - val_loss: 1.9469\n",
      "Epoch 2/20\n",
      "\u001b[1m4/4\u001b[0m \u001b[32m━━━━━━━━━━━━━━━━━━━━\u001b[0m\u001b[37m\u001b[0m \u001b[1m2s\u001b[0m 484ms/step - accuracy: 0.3434 - loss: 1.6871 - val_accuracy: 0.3000 - val_loss: 1.7448\n",
      "Epoch 3/20\n",
      "\u001b[1m4/4\u001b[0m \u001b[32m━━━━━━━━━━━━━━━━━━━━\u001b[0m\u001b[37m\u001b[0m \u001b[1m3s\u001b[0m 454ms/step - accuracy: 0.4848 - loss: 1.3451 - val_accuracy: 0.3000 - val_loss: 1.7952\n",
      "Epoch 4/20\n",
      "\u001b[1m4/4\u001b[0m \u001b[32m━━━━━━━━━━━━━━━━━━━━\u001b[0m\u001b[37m\u001b[0m \u001b[1m2s\u001b[0m 439ms/step - accuracy: 0.5556 - loss: 1.1665 - val_accuracy: 0.3500 - val_loss: 1.7324\n",
      "Epoch 5/20\n",
      "\u001b[1m4/4\u001b[0m \u001b[32m━━━━━━━━━━━━━━━━━━━━\u001b[0m\u001b[37m\u001b[0m \u001b[1m3s\u001b[0m 519ms/step - accuracy: 0.6667 - loss: 1.0615 - val_accuracy: 0.4000 - val_loss: 1.7257\n",
      "Epoch 6/20\n",
      "\u001b[1m4/4\u001b[0m \u001b[32m━━━━━━━━━━━━━━━━━━━━\u001b[0m\u001b[37m\u001b[0m \u001b[1m3s\u001b[0m 497ms/step - accuracy: 0.6768 - loss: 0.8894 - val_accuracy: 0.3500 - val_loss: 1.6712\n",
      "Epoch 7/20\n",
      "\u001b[1m4/4\u001b[0m \u001b[32m━━━━━━━━━━━━━━━━━━━━\u001b[0m\u001b[37m\u001b[0m \u001b[1m2s\u001b[0m 425ms/step - accuracy: 0.7273 - loss: 0.8060 - val_accuracy: 0.2000 - val_loss: 1.8572\n",
      "Epoch 8/20\n",
      "\u001b[1m4/4\u001b[0m \u001b[32m━━━━━━━━━━━━━━━━━━━━\u001b[0m\u001b[37m\u001b[0m \u001b[1m2s\u001b[0m 481ms/step - accuracy: 0.7172 - loss: 0.7605 - val_accuracy: 0.3500 - val_loss: 1.9179\n",
      "Epoch 9/20\n",
      "\u001b[1m4/4\u001b[0m \u001b[32m━━━━━━━━━━━━━━━━━━━━\u001b[0m\u001b[37m\u001b[0m \u001b[1m2s\u001b[0m 486ms/step - accuracy: 0.7778 - loss: 0.6231 - val_accuracy: 0.3500 - val_loss: 1.7107\n",
      "Epoch 10/20\n",
      "\u001b[1m4/4\u001b[0m \u001b[32m━━━━━━━━━━━━━━━━━━━━\u001b[0m\u001b[37m\u001b[0m \u001b[1m2s\u001b[0m 428ms/step - accuracy: 0.8384 - loss: 0.5469 - val_accuracy: 0.3000 - val_loss: 1.6747\n",
      "Epoch 11/20\n",
      "\u001b[1m4/4\u001b[0m \u001b[32m━━━━━━━━━━━━━━━━━━━━\u001b[0m\u001b[37m\u001b[0m \u001b[1m2s\u001b[0m 480ms/step - accuracy: 0.8081 - loss: 0.6062 - val_accuracy: 0.3500 - val_loss: 1.7748\n",
      "Epoch 12/20\n",
      "\u001b[1m4/4\u001b[0m \u001b[32m━━━━━━━━━━━━━━━━━━━━\u001b[0m\u001b[37m\u001b[0m \u001b[1m2s\u001b[0m 485ms/step - accuracy: 0.8283 - loss: 0.5722 - val_accuracy: 0.4000 - val_loss: 1.8613\n",
      "Epoch 13/20\n",
      "\u001b[1m4/4\u001b[0m \u001b[32m━━━━━━━━━━━━━━━━━━━━\u001b[0m\u001b[37m\u001b[0m \u001b[1m2s\u001b[0m 498ms/step - accuracy: 0.8081 - loss: 0.4879 - val_accuracy: 0.4000 - val_loss: 1.7458\n",
      "Epoch 14/20\n",
      "\u001b[1m4/4\u001b[0m \u001b[32m━━━━━━━━━━━━━━━━━━━━\u001b[0m\u001b[37m\u001b[0m \u001b[1m3s\u001b[0m 513ms/step - accuracy: 0.8283 - loss: 0.5064 - val_accuracy: 0.4000 - val_loss: 1.7270\n",
      "Epoch 15/20\n",
      "\u001b[1m4/4\u001b[0m \u001b[32m━━━━━━━━━━━━━━━━━━━━\u001b[0m\u001b[37m\u001b[0m \u001b[1m3s\u001b[0m 513ms/step - accuracy: 0.8788 - loss: 0.3993 - val_accuracy: 0.4500 - val_loss: 1.7091\n",
      "Epoch 16/20\n",
      "\u001b[1m4/4\u001b[0m \u001b[32m━━━━━━━━━━━━━━━━━━━━\u001b[0m\u001b[37m\u001b[0m \u001b[1m3s\u001b[0m 538ms/step - accuracy: 0.8990 - loss: 0.3753 - val_accuracy: 0.3000 - val_loss: 1.9042\n",
      "Epoch 17/20\n",
      "\u001b[1m4/4\u001b[0m \u001b[32m━━━━━━━━━━━━━━━━━━━━\u001b[0m\u001b[37m\u001b[0m \u001b[1m3s\u001b[0m 460ms/step - accuracy: 0.8990 - loss: 0.3246 - val_accuracy: 0.2500 - val_loss: 2.0471\n",
      "Epoch 18/20\n",
      "\u001b[1m4/4\u001b[0m \u001b[32m━━━━━━━━━━━━━━━━━━━━\u001b[0m\u001b[37m\u001b[0m \u001b[1m3s\u001b[0m 475ms/step - accuracy: 0.9293 - loss: 0.2886 - val_accuracy: 0.4500 - val_loss: 1.9420\n",
      "Epoch 19/20\n",
      "\u001b[1m4/4\u001b[0m \u001b[32m━━━━━━━━━━━━━━━━━━━━\u001b[0m\u001b[37m\u001b[0m \u001b[1m2s\u001b[0m 517ms/step - accuracy: 0.9495 - loss: 0.2381 - val_accuracy: 0.4500 - val_loss: 1.9120\n",
      "Epoch 20/20\n",
      "\u001b[1m4/4\u001b[0m \u001b[32m━━━━━━━━━━━━━━━━━━━━\u001b[0m\u001b[37m\u001b[0m \u001b[1m3s\u001b[0m 499ms/step - accuracy: 0.9293 - loss: 0.2552 - val_accuracy: 0.4000 - val_loss: 1.9143\n"
     ]
    }
   ],
   "source": [
    "mnv2_model = mobile_net_v2_model(num_classes)\n",
    "\n",
    "history = mnv2_model.fit(\n",
    "    train_ds,\n",
    "    validation_data=val_ds,\n",
    "    epochs=20\n",
    ")\n"
   ]
  },
  {
   "cell_type": "code",
   "execution_count": 24,
   "id": "def33b8e",
   "metadata": {},
   "outputs": [],
   "source": [
    "mnv2_model.save('food_classification_model.keras')"
   ]
  },
  {
   "cell_type": "code",
   "execution_count": 25,
   "id": "7644824a",
   "metadata": {},
   "outputs": [
    {
     "name": "stdout",
     "output_type": "stream",
     "text": [
      "\u001b[1m1/1\u001b[0m \u001b[32m━━━━━━━━━━━━━━━━━━━━\u001b[0m\u001b[37m\u001b[0m \u001b[1m1s\u001b[0m 524ms/step - accuracy: 0.3500 - loss: 2.0866\n",
      "Test loss: 2.086646556854248\n",
      "Test accuracy: 0.3499999940395355\n"
     ]
    }
   ],
   "source": [
    "scores = mnv2_model.evaluate(test_ds)\n",
    "print(\"Test loss:\", scores[0])\n",
    "print(\"Test accuracy:\", scores[1])\n"
   ]
  },
  {
   "cell_type": "code",
   "execution_count": null,
   "id": "f15e7e5f",
   "metadata": {},
   "outputs": [],
   "source": []
  },
  {
   "cell_type": "code",
   "execution_count": null,
   "id": "9916f10f",
   "metadata": {},
   "outputs": [],
   "source": []
  }
 ],
 "metadata": {
  "kernelspec": {
   "display_name": "data_science_venv",
   "language": "python",
   "name": "python3"
  },
  "language_info": {
   "codemirror_mode": {
    "name": "ipython",
    "version": 3
   },
   "file_extension": ".py",
   "mimetype": "text/x-python",
   "name": "python",
   "nbconvert_exporter": "python",
   "pygments_lexer": "ipython3",
   "version": "3.13.7"
  }
 },
 "nbformat": 4,
 "nbformat_minor": 5
}
